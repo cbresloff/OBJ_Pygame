{
 "cells": [
  {
   "cell_type": "code",
   "execution_count": 1,
   "metadata": {},
   "outputs": [],
   "source": [
    "# obj filenames of files to load; each one MUST be ONE object only\n",
    "# adjust paths as required... .obj files must reference COMPLETE paths to .mtl files\n",
    "filename = \"/Users/cynthia/Documents/MaricopaAG/trunk.obj\"\n",
    "filename1 = \"/Users/cynthia/Documents/MaricopaAG/leaves.obj\"\n",
    "filename2 = \"/Users/cynthia/Documents/MaricopaAG/branches1.obj\"\n",
    "filename3 = \"/Users/cynthia/Documents/MaricopaAG/branches2.obj\""
   ]
  },
  {
   "cell_type": "code",
   "execution_count": null,
   "metadata": {},
   "outputs": [
    {
     "name": "stdout",
     "output_type": "stream",
     "text": [
      "Loads a Wavefront OBJ file. \n",
      "Loads a Wavefront OBJ file. \n",
      "Loads a Wavefront OBJ file. \n",
      "Loads a Wavefront OBJ file. \n"
     ]
    }
   ],
   "source": [
    "# Basic OBJ file viewer, for Pygame / OPENGL rendering. needs objloader from:\n",
    "#  http://www.pygame.org/wiki/OBJFileLoader\n",
    "# LMB + move: rotate\n",
    "# RMB + move: pan\n",
    "# Scroll wheel: zoom in/out\n",
    "\n",
    "import sys, pygame\n",
    "from pygame.locals import *\n",
    "from pygame.constants import *\n",
    "from OpenGL.GL import *\n",
    "from OpenGL.GLU import *\n",
    "\n",
    "# IMPORT OBJECT LOADER; separate .py file\n",
    "from objloader import *\n",
    "\n",
    "pygame.init()\n",
    "viewport = (900,800)\n",
    "\n",
    "hx = viewport[0]/2\n",
    "hy = viewport[1]/2\n",
    "srf = pygame.display.set_mode(viewport, pygame.HWSURFACE|pygame.OPENGL|pygame.DOUBLEBUF)\n",
    "glEnable(GL_DEPTH_TEST)\n",
    "glClearColor(0.3,1.0,1.0,0.0)\n",
    "\n",
    "glEnable(GL_COLOR_MATERIAL)\n",
    "glLightfv(GL_LIGHT0, GL_POSITION,  (0, 1, 1, 0))\n",
    "glLightfv(GL_LIGHT0, GL_AMBIENT, (0.2, 0.2, 0.2, 1.0))\n",
    "glLightfv(GL_LIGHT0, GL_DIFFUSE, (0.5, 0.5, 0.5, 1.0))\n",
    "glEnable(GL_LIGHT0)\n",
    "glEnable(GL_LIGHTING)\n",
    "\n",
    "\n",
    "glShadeModel(GL_SMOOTH)           # most obj files expect to be smooth-shaded\n",
    "\n",
    "# LOAD OBJECT(S) AFTER PYGAME INIT\n",
    "obj = OBJ(filename, swapyz=True)\n",
    "obj1 = OBJ(filename1, swapyz=True)\n",
    "obj2 = OBJ(filename2, swapyz=True)\n",
    "obj3 = OBJ(filename3, swapyz=True)\n",
    "\n",
    "clock = pygame.time.Clock()\n",
    "\n",
    "glMatrixMode(GL_PROJECTION)\n",
    "glLoadIdentity()\n",
    "width, height = viewport\n",
    "gluPerspective(140.0, width/float(height), 5, 1000.0)\n",
    "glEnable(GL_DEPTH_TEST)\n",
    "glMatrixMode(GL_MODELVIEW)\n",
    "\n",
    "rx, ry = (0,0)\n",
    "tx, ty = (0,-100)\n",
    "zpos = 405\n",
    "rotate = move = False\n",
    "while 1:\n",
    "    clock.tick(30)\n",
    "    for e in pygame.event.get():\n",
    "        if e.type == pygame.QUIT:\n",
    "            sys.exit()\n",
    "        elif e.type == pygame.KEYDOWN and e.key == pygame.K_ESCAPE:\n",
    "            sys.exit()\n",
    "        elif e.type == pygame.MOUSEBUTTONDOWN:\n",
    "            if e.button == 4: zpos = max(1, zpos-1)\n",
    "            elif e.button == 5: zpos += 1\n",
    "            elif e.button == 1: rotate = True\n",
    "            elif e.button == 3: move = True\n",
    "        elif e.type == pygame.MOUSEBUTTONUP:\n",
    "            if e.button == 1: rotate = False\n",
    "            elif e.button == 3: move = False\n",
    "        elif e.type == pygame.MOUSEMOTION:\n",
    "            i, j = e.rel\n",
    "            if rotate:\n",
    "                rx += i\n",
    "                ry += j\n",
    "            if move:\n",
    "                tx += i\n",
    "                ty -= j\n",
    "\n",
    "    glClear(GL_COLOR_BUFFER_BIT | GL_DEPTH_BUFFER_BIT)\n",
    "    glLoadIdentity()\n",
    "\n",
    "    # RENDER OBJECT\n",
    "    glTranslate(tx/20., ty/20., - zpos)\n",
    "    glRotate(ry, 1, 0, 0)\n",
    "    glRotate(rx, 0, 1, 0)\n",
    "      \n",
    "    glCallList(obj.gl_list)\n",
    "    glCallList(obj1.gl_list)\n",
    "    glCallList(obj2.gl_list)\n",
    "    glCallList(obj3.gl_list)\n",
    "    \n",
    "    pygame.display.flip()"
   ]
  },
  {
   "cell_type": "code",
   "execution_count": null,
   "metadata": {},
   "outputs": [],
   "source": [
    "exit()"
   ]
  },
  {
   "cell_type": "code",
   "execution_count": null,
   "metadata": {},
   "outputs": [],
   "source": []
  }
 ],
 "metadata": {
  "kernelspec": {
   "display_name": "Python 3",
   "language": "python",
   "name": "python3"
  },
  "language_info": {
   "codemirror_mode": {
    "name": "ipython",
    "version": 3
   },
   "file_extension": ".py",
   "mimetype": "text/x-python",
   "name": "python",
   "nbconvert_exporter": "python",
   "pygments_lexer": "ipython3",
   "version": "3.5.5"
  }
 },
 "nbformat": 4,
 "nbformat_minor": 2
}
